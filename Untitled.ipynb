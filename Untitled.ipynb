{
 "cells": [
  {
   "cell_type": "code",
   "execution_count": 7,
   "metadata": {},
   "outputs": [
    {
     "name": "stdout",
     "output_type": "stream",
     "text": [
      "[(0, 300), (128, 300), (256, 300), (384, 300), (512, 300), (640, 300), (768, 232)]\n"
     ]
    }
   ],
   "source": [
    "max_tokens_for_doc = 300\n",
    "num = 1000\n",
    "doc_stride = 128\n",
    "doc_spans = []\n",
    "start_offset = 0\n",
    "while start_offset < num:\n",
    "    length = num - start_offset\n",
    "    if length > max_tokens_for_doc:\n",
    "        length = max_tokens_for_doc\n",
    "    doc_spans.append((start_offset, length))\n",
    "    if start_offset + length == num:\n",
    "        break\n",
    "    start_offset += min(length, doc_stride)\n",
    "print(doc_spans)"
   ]
  },
  {
   "cell_type": "code",
   "execution_count": 18,
   "metadata": {},
   "outputs": [
    {
     "name": "stdout",
     "output_type": "stream",
     "text": [
      "0节点到4节点最短路径:  [1, 4]\n",
      "0节点到所有节点最短路径:  {1: [1], 3: [1, 3], 4: [1, 4], 2: [1, 4, 2], '1': [1, 4, 2, '1']}\n",
      "计算图中节点0到节点2的所有最短路径:  [[1, 4, 2]]\n",
      "计算图中节点0到节点2的所有最短路径:  [1, 4, 2]\n",
      "节点0到节点2的最短路径长度: 2  平均最短路径长度:  1.7\n",
      "检测节点0到节点2是否有路径 True\n"
     ]
    }
   ],
   "source": [
    "import networkx as nx\n",
    "#定义并画出该图\n",
    "dic1 = [('1',2),(2,4),(1,3),(3,4),(1,4)]\n",
    "G = nx.Graph()\n",
    "G2 = nx.Graph()\n",
    "G.add_edges_from(dic1)\n",
    "G2.add_edges_from(dic1)\n",
    "# G = nx.path_graph(5)\n",
    "# nx.add_path(G,[0,5,2])\n",
    "# nx.add_path(G,[0,6,4])\n",
    "nx.draw(G,with_labels=True)\n",
    "nx.draw(G2,with_labels=True)\n",
    "\n",
    "#计算最短路径\n",
    "print('0节点到4节点最短路径: ',nx.shortest_path(G, source=1, target=4))\n",
    "p1 = nx.shortest_path(G, source=1)\n",
    "print('0节点到所有节点最短路径: ',p1)\n",
    "\n",
    "#计算图中所有的最短路径\n",
    "print('计算图中节点0到节点2的所有最短路径: ',[p for p in nx.all_shortest_paths(G, source=1, target=2)])\n",
    "print('计算图中节点0到节点2的所有最短路径: ',nx.shortest_path(G, source=1, target=2))\n",
    "\n",
    "#计算最短路径长度\n",
    "p2=nx.shortest_path_length(G, source=1, target=2)  #最短路径长度\n",
    "p3=nx.average_shortest_path_length(G) #计算平均最短路径长度\n",
    "print('节点0到节点2的最短路径长度:',p2,' 平均最短路径长度: ',p3)\n",
    "\n",
    "#检测是否有路径\n",
    "print('检测节点0到节点2是否有路径',nx.has_path(G,1,2))\n",
    "\n",
    "# print(nx.has_path(G,1,9))"
   ]
  },
  {
   "cell_type": "code",
   "execution_count": 22,
   "metadata": {},
   "outputs": [
    {
     "data": {
      "text/plain": [
       "2"
      ]
     },
     "execution_count": 22,
     "metadata": {},
     "output_type": "execute_result"
    }
   ],
   "source": [
    "a =1\n",
    "del a\n",
    "a=2\n",
    "a"
   ]
  }
 ],
 "metadata": {
  "kernelspec": {
   "display_name": "Python 3",
   "language": "python",
   "name": "python2"
  },
  "language_info": {
   "codemirror_mode": {
    "name": "ipython",
    "version": 3
   },
   "file_extension": ".py",
   "mimetype": "text/x-python",
   "name": "python",
   "nbconvert_exporter": "python",
   "pygments_lexer": "ipython3",
   "version": "3.6.3"
  }
 },
 "nbformat": 4,
 "nbformat_minor": 2
}
